{
 "cells": [
  {
   "cell_type": "code",
   "execution_count": 75,
   "id": "124bdbe7",
   "metadata": {},
   "outputs": [],
   "source": [
    "import pandas as pd\n",
    "from sklearn.model_selection import train_test_split"
   ]
  },
  {
   "cell_type": "code",
   "execution_count": null,
   "id": "cd8ff8b5",
   "metadata": {},
   "outputs": [],
   "source": [
    "# load the dataset\n",
    "fraud_df = pd.read_csv(\"financial_fraud_detection_dataset.csv\")\n",
    "\n",
    "# remove unnamed index column if it exists\n",
    "fraud_df.drop(columns=[\"Unnamed: 0\"], inplace=True, errors='ignore')"
   ]
  },
  {
   "cell_type": "code",
   "execution_count": 77,
   "id": "51c6d7d4",
   "metadata": {},
   "outputs": [
    {
     "data": {
      "text/html": [
       "<div>\n",
       "<style scoped>\n",
       "    .dataframe tbody tr th:only-of-type {\n",
       "        vertical-align: middle;\n",
       "    }\n",
       "\n",
       "    .dataframe tbody tr th {\n",
       "        vertical-align: top;\n",
       "    }\n",
       "\n",
       "    .dataframe thead th {\n",
       "        text-align: right;\n",
       "    }\n",
       "</style>\n",
       "<table border=\"1\" class=\"dataframe\">\n",
       "  <thead>\n",
       "    <tr style=\"text-align: right;\">\n",
       "      <th></th>\n",
       "      <th>transaction_id</th>\n",
       "      <th>timestamp</th>\n",
       "      <th>sender_account</th>\n",
       "      <th>receiver_account</th>\n",
       "      <th>amount</th>\n",
       "      <th>transaction_type</th>\n",
       "      <th>merchant_category</th>\n",
       "      <th>location</th>\n",
       "      <th>device_used</th>\n",
       "      <th>is_fraud</th>\n",
       "      <th>fraud_type</th>\n",
       "      <th>time_since_last_transaction</th>\n",
       "      <th>spending_deviation_score</th>\n",
       "      <th>velocity_score</th>\n",
       "      <th>geo_anomaly_score</th>\n",
       "      <th>payment_channel</th>\n",
       "      <th>ip_address</th>\n",
       "      <th>device_hash</th>\n",
       "    </tr>\n",
       "  </thead>\n",
       "  <tbody>\n",
       "    <tr>\n",
       "      <th>0</th>\n",
       "      <td>T100000</td>\n",
       "      <td>2023-08-22T09:22:43.516168</td>\n",
       "      <td>ACC877572</td>\n",
       "      <td>ACC388389</td>\n",
       "      <td>343.78</td>\n",
       "      <td>withdrawal</td>\n",
       "      <td>utilities</td>\n",
       "      <td>Tokyo</td>\n",
       "      <td>mobile</td>\n",
       "      <td>False</td>\n",
       "      <td>NaN</td>\n",
       "      <td>NaN</td>\n",
       "      <td>-0.21</td>\n",
       "      <td>3</td>\n",
       "      <td>0.22</td>\n",
       "      <td>card</td>\n",
       "      <td>13.101.214.112</td>\n",
       "      <td>D8536477</td>\n",
       "    </tr>\n",
       "    <tr>\n",
       "      <th>1</th>\n",
       "      <td>T100001</td>\n",
       "      <td>2023-08-04T01:58:02.606711</td>\n",
       "      <td>ACC895667</td>\n",
       "      <td>ACC944962</td>\n",
       "      <td>419.65</td>\n",
       "      <td>withdrawal</td>\n",
       "      <td>online</td>\n",
       "      <td>Toronto</td>\n",
       "      <td>atm</td>\n",
       "      <td>False</td>\n",
       "      <td>NaN</td>\n",
       "      <td>NaN</td>\n",
       "      <td>-0.14</td>\n",
       "      <td>7</td>\n",
       "      <td>0.96</td>\n",
       "      <td>ACH</td>\n",
       "      <td>172.52.47.194</td>\n",
       "      <td>D2622631</td>\n",
       "    </tr>\n",
       "    <tr>\n",
       "      <th>2</th>\n",
       "      <td>T100002</td>\n",
       "      <td>2023-05-12T11:39:33.742963</td>\n",
       "      <td>ACC733052</td>\n",
       "      <td>ACC377370</td>\n",
       "      <td>2773.86</td>\n",
       "      <td>deposit</td>\n",
       "      <td>other</td>\n",
       "      <td>London</td>\n",
       "      <td>pos</td>\n",
       "      <td>False</td>\n",
       "      <td>NaN</td>\n",
       "      <td>NaN</td>\n",
       "      <td>-1.78</td>\n",
       "      <td>20</td>\n",
       "      <td>0.89</td>\n",
       "      <td>card</td>\n",
       "      <td>185.98.35.23</td>\n",
       "      <td>D4823498</td>\n",
       "    </tr>\n",
       "    <tr>\n",
       "      <th>3</th>\n",
       "      <td>T100003</td>\n",
       "      <td>2023-10-10T06:04:43.195112</td>\n",
       "      <td>ACC996865</td>\n",
       "      <td>ACC344098</td>\n",
       "      <td>1666.22</td>\n",
       "      <td>deposit</td>\n",
       "      <td>online</td>\n",
       "      <td>Sydney</td>\n",
       "      <td>pos</td>\n",
       "      <td>False</td>\n",
       "      <td>NaN</td>\n",
       "      <td>NaN</td>\n",
       "      <td>-0.60</td>\n",
       "      <td>6</td>\n",
       "      <td>0.37</td>\n",
       "      <td>wire_transfer</td>\n",
       "      <td>107.136.36.87</td>\n",
       "      <td>D9961380</td>\n",
       "    </tr>\n",
       "    <tr>\n",
       "      <th>4</th>\n",
       "      <td>T100004</td>\n",
       "      <td>2023-09-24T08:09:02.700162</td>\n",
       "      <td>ACC584714</td>\n",
       "      <td>ACC497887</td>\n",
       "      <td>24.43</td>\n",
       "      <td>transfer</td>\n",
       "      <td>utilities</td>\n",
       "      <td>Toronto</td>\n",
       "      <td>mobile</td>\n",
       "      <td>False</td>\n",
       "      <td>NaN</td>\n",
       "      <td>NaN</td>\n",
       "      <td>0.79</td>\n",
       "      <td>13</td>\n",
       "      <td>0.27</td>\n",
       "      <td>ACH</td>\n",
       "      <td>108.161.108.255</td>\n",
       "      <td>D7637601</td>\n",
       "    </tr>\n",
       "  </tbody>\n",
       "</table>\n",
       "</div>"
      ],
      "text/plain": [
       "  transaction_id                   timestamp sender_account receiver_account  \\\n",
       "0        T100000  2023-08-22T09:22:43.516168      ACC877572        ACC388389   \n",
       "1        T100001  2023-08-04T01:58:02.606711      ACC895667        ACC944962   \n",
       "2        T100002  2023-05-12T11:39:33.742963      ACC733052        ACC377370   \n",
       "3        T100003  2023-10-10T06:04:43.195112      ACC996865        ACC344098   \n",
       "4        T100004  2023-09-24T08:09:02.700162      ACC584714        ACC497887   \n",
       "\n",
       "    amount transaction_type merchant_category location device_used  is_fraud  \\\n",
       "0   343.78       withdrawal         utilities    Tokyo      mobile     False   \n",
       "1   419.65       withdrawal            online  Toronto         atm     False   \n",
       "2  2773.86          deposit             other   London         pos     False   \n",
       "3  1666.22          deposit            online   Sydney         pos     False   \n",
       "4    24.43         transfer         utilities  Toronto      mobile     False   \n",
       "\n",
       "  fraud_type  time_since_last_transaction  spending_deviation_score  \\\n",
       "0        NaN                          NaN                     -0.21   \n",
       "1        NaN                          NaN                     -0.14   \n",
       "2        NaN                          NaN                     -1.78   \n",
       "3        NaN                          NaN                     -0.60   \n",
       "4        NaN                          NaN                      0.79   \n",
       "\n",
       "   velocity_score  geo_anomaly_score payment_channel       ip_address  \\\n",
       "0               3               0.22            card   13.101.214.112   \n",
       "1               7               0.96             ACH    172.52.47.194   \n",
       "2              20               0.89            card     185.98.35.23   \n",
       "3               6               0.37   wire_transfer    107.136.36.87   \n",
       "4              13               0.27             ACH  108.161.108.255   \n",
       "\n",
       "  device_hash  \n",
       "0    D8536477  \n",
       "1    D2622631  \n",
       "2    D4823498  \n",
       "3    D9961380  \n",
       "4    D7637601  "
      ]
     },
     "execution_count": 77,
     "metadata": {},
     "output_type": "execute_result"
    }
   ],
   "source": [
    "# initial data exploration\n",
    "fraud_df.head()"
   ]
  },
  {
   "cell_type": "code",
   "execution_count": 78,
   "id": "9bcecf5f",
   "metadata": {},
   "outputs": [
    {
     "name": "stdout",
     "output_type": "stream",
     "text": [
      "<class 'pandas.core.frame.DataFrame'>\n",
      "RangeIndex: 5000000 entries, 0 to 4999999\n",
      "Data columns (total 18 columns):\n",
      " #   Column                       Dtype  \n",
      "---  ------                       -----  \n",
      " 0   transaction_id               object \n",
      " 1   timestamp                    object \n",
      " 2   sender_account               object \n",
      " 3   receiver_account             object \n",
      " 4   amount                       float64\n",
      " 5   transaction_type             object \n",
      " 6   merchant_category            object \n",
      " 7   location                     object \n",
      " 8   device_used                  object \n",
      " 9   is_fraud                     bool   \n",
      " 10  fraud_type                   object \n",
      " 11  time_since_last_transaction  float64\n",
      " 12  spending_deviation_score     float64\n",
      " 13  velocity_score               int64  \n",
      " 14  geo_anomaly_score            float64\n",
      " 15  payment_channel              object \n",
      " 16  ip_address                   object \n",
      " 17  device_hash                  object \n",
      "dtypes: bool(1), float64(4), int64(1), object(12)\n",
      "memory usage: 653.3+ MB\n"
     ]
    }
   ],
   "source": [
    "fraud_df.info()"
   ]
  },
  {
   "cell_type": "code",
   "execution_count": 79,
   "id": "e7d482d1",
   "metadata": {},
   "outputs": [
    {
     "data": {
      "text/plain": [
       "transaction_id                       0\n",
       "timestamp                            0\n",
       "sender_account                       0\n",
       "receiver_account                     0\n",
       "amount                               0\n",
       "transaction_type                     0\n",
       "merchant_category                    0\n",
       "location                             0\n",
       "device_used                          0\n",
       "is_fraud                             0\n",
       "fraud_type                     4820447\n",
       "time_since_last_transaction     896513\n",
       "spending_deviation_score             0\n",
       "velocity_score                       0\n",
       "geo_anomaly_score                    0\n",
       "payment_channel                      0\n",
       "ip_address                           0\n",
       "device_hash                          0\n",
       "dtype: int64"
      ]
     },
     "execution_count": 79,
     "metadata": {},
     "output_type": "execute_result"
    }
   ],
   "source": [
    "fraud_df.isnull().sum()"
   ]
  },
  {
   "cell_type": "code",
   "execution_count": 80,
   "id": "7f128c0c",
   "metadata": {},
   "outputs": [],
   "source": [
    "# drop columns that are not needed for analysis\n",
    "fraud_df.drop(columns=['transaction_id', 'sender_account', 'receiver_account', \n",
    "                       'fraud_type', 'time_since_last_transaction', \n",
    "                       'ip_address', 'device_hash'], inplace=True, errors='ignore')"
   ]
  },
  {
   "cell_type": "code",
   "execution_count": 81,
   "id": "47b09abf",
   "metadata": {},
   "outputs": [
    {
     "data": {
      "text/plain": [
       "timestamp                   0\n",
       "amount                      0\n",
       "transaction_type            0\n",
       "merchant_category           0\n",
       "location                    0\n",
       "device_used                 0\n",
       "is_fraud                    0\n",
       "spending_deviation_score    0\n",
       "velocity_score              0\n",
       "geo_anomaly_score           0\n",
       "payment_channel             0\n",
       "dtype: int64"
      ]
     },
     "execution_count": 81,
     "metadata": {},
     "output_type": "execute_result"
    }
   ],
   "source": [
    "# check null values after dropping columns\n",
    "fraud_df.isnull().sum()"
   ]
  },
  {
   "cell_type": "code",
   "execution_count": 82,
   "id": "5ac3bf9c",
   "metadata": {},
   "outputs": [],
   "source": [
    "# extract just the date part and convert to datetime\n",
    "fraud_df['timestamp'] = pd.to_datetime(fraud_df['timestamp'].str.split('T').str[0])"
   ]
  },
  {
   "cell_type": "code",
   "execution_count": 83,
   "id": "c6c09e80",
   "metadata": {},
   "outputs": [
    {
     "name": "stdout",
     "output_type": "stream",
     "text": [
      "<class 'pandas.core.frame.DataFrame'>\n",
      "RangeIndex: 5000000 entries, 0 to 4999999\n",
      "Data columns (total 11 columns):\n",
      " #   Column                    Dtype         \n",
      "---  ------                    -----         \n",
      " 0   timestamp                 datetime64[ns]\n",
      " 1   amount                    float64       \n",
      " 2   transaction_type          object        \n",
      " 3   merchant_category         object        \n",
      " 4   location                  object        \n",
      " 5   device_used               object        \n",
      " 6   is_fraud                  bool          \n",
      " 7   spending_deviation_score  float64       \n",
      " 8   velocity_score            int64         \n",
      " 9   geo_anomaly_score         float64       \n",
      " 10  payment_channel           object        \n",
      "dtypes: bool(1), datetime64[ns](1), float64(3), int64(1), object(5)\n",
      "memory usage: 386.2+ MB\n"
     ]
    }
   ],
   "source": [
    "# verify the conversion\n",
    "fraud_df.info()"
   ]
  },
  {
   "cell_type": "code",
   "execution_count": 84,
   "id": "91944c72",
   "metadata": {},
   "outputs": [
    {
     "name": "stdout",
     "output_type": "stream",
     "text": [
      "0   2023-08-22\n",
      "1   2023-08-04\n",
      "2   2023-05-12\n",
      "3   2023-10-10\n",
      "4   2023-09-24\n",
      "Name: timestamp, dtype: datetime64[ns]\n"
     ]
    }
   ],
   "source": [
    "print(fraud_df['timestamp'].head())"
   ]
  },
  {
   "cell_type": "code",
   "execution_count": 85,
   "id": "b2329a69",
   "metadata": {},
   "outputs": [
    {
     "name": "stdout",
     "output_type": "stream",
     "text": [
      "is_fraud\n",
      "False    4820447\n",
      "True      179553\n",
      "Name: count, dtype: int64\n",
      "\n",
      "Percentages:\n",
      "is_fraud\n",
      "False    96.40894\n",
      "True      3.59106\n",
      "Name: proportion, dtype: float64\n"
     ]
    }
   ],
   "source": [
    "# check the current class distribution\n",
    "\n",
    "print(fraud_df['is_fraud'].value_counts())\n",
    "print(\"\\nPercentages:\")\n",
    "print(fraud_df['is_fraud'].value_counts(normalize=True) * 100)"
   ]
  },
  {
   "cell_type": "code",
   "execution_count": 86,
   "id": "7a1d20eb",
   "metadata": {},
   "outputs": [
    {
     "name": "stdout",
     "output_type": "stream",
     "text": [
      "\n",
      "Total fraud cases: 179553\n",
      "Total non-fraud cases: 4820447\n"
     ]
    }
   ],
   "source": [
    "# separate fraud and non-fraud cases\n",
    "fraud_cases = fraud_df[fraud_df['is_fraud'] == True]\n",
    "non_fraud_cases = fraud_df[fraud_df['is_fraud'] == False]\n",
    "\n",
    "print(f\"\\nTotal fraud cases: {len(fraud_cases)}\")\n",
    "print(f\"Total non-fraud cases: {len(non_fraud_cases)}\")"
   ]
  },
  {
   "cell_type": "code",
   "execution_count": 87,
   "id": "9a1130f3",
   "metadata": {},
   "outputs": [],
   "source": [
    "# calculate target for 1:2 fraud to non-fraud ratio\n",
    "target_non_fraud = len(fraud_cases) * 2\n",
    "\n",
    "# define features for stratification\n",
    "stratify_features = ['transaction_type', 'merchant_category', 'location', 'device_used', 'payment_channel']"
   ]
  },
  {
   "cell_type": "code",
   "execution_count": 88,
   "id": "57cfb5eb",
   "metadata": {},
   "outputs": [],
   "source": [
    "# sample non-fraud cases using stratification\n",
    "sampled_non_fraud, _ = train_test_split(\n",
    "    non_fraud_cases,\n",
    "    train_size=target_non_fraud,\n",
    "    stratify=non_fraud_cases[stratify_features],\n",
    "    random_state=42\n",
    ")"
   ]
  },
  {
   "cell_type": "code",
   "execution_count": 89,
   "id": "419481ca",
   "metadata": {},
   "outputs": [
    {
     "name": "stdout",
     "output_type": "stream",
     "text": [
      "sampled non-fraud cases: 359106\n"
     ]
    }
   ],
   "source": [
    "print(f\"sampled non-fraud cases: {len(sampled_non_fraud)}\")"
   ]
  },
  {
   "cell_type": "code",
   "execution_count": 90,
   "id": "26cec116",
   "metadata": {},
   "outputs": [],
   "source": [
    "# combine & shuffle fraud cases with sampled non-fraud cases\n",
    "balanced_df = pd.concat([fraud_cases, sampled_non_fraud], ignore_index=True)\n",
    "balanced_df = balanced_df.sample(frac=1, random_state=42).reset_index(drop=True)"
   ]
  },
  {
   "cell_type": "code",
   "execution_count": 91,
   "id": "4c36a8c4",
   "metadata": {},
   "outputs": [
    {
     "name": "stdout",
     "output_type": "stream",
     "text": [
      "is_fraud\n",
      "False    359106\n",
      "True     179553\n",
      "Name: count, dtype: int64\n",
      "\n",
      "Percentages:\n",
      "is_fraud\n",
      "False    66.666667\n",
      "True     33.333333\n",
      "Name: proportion, dtype: float64\n",
      "\n",
      "Final dataset shape: (538659, 11)\n"
     ]
    }
   ],
   "source": [
    "# verify the new distribution\n",
    "print(balanced_df['is_fraud'].value_counts())\n",
    "print(\"\\nPercentages:\")\n",
    "print(balanced_df['is_fraud'].value_counts(normalize=True) * 100)\n",
    "print(f\"\\nFinal dataset shape: {balanced_df.shape}\")"
   ]
  },
  {
   "cell_type": "code",
   "execution_count": 92,
   "id": "725ee53c",
   "metadata": {},
   "outputs": [
    {
     "data": {
      "text/plain": [
       "timestamp                   0\n",
       "amount                      0\n",
       "transaction_type            0\n",
       "merchant_category           0\n",
       "location                    0\n",
       "device_used                 0\n",
       "is_fraud                    0\n",
       "spending_deviation_score    0\n",
       "velocity_score              0\n",
       "geo_anomaly_score           0\n",
       "payment_channel             0\n",
       "dtype: int64"
      ]
     },
     "execution_count": 92,
     "metadata": {},
     "output_type": "execute_result"
    }
   ],
   "source": [
    "# check for any remaining null values\n",
    "balanced_df.isnull().sum()"
   ]
  },
  {
   "cell_type": "code",
   "execution_count": 93,
   "id": "b5f167d1",
   "metadata": {},
   "outputs": [
    {
     "name": "stdout",
     "output_type": "stream",
     "text": [
      "File: 'cleaned_fraud_dataset.csv'\n",
      "Rows: 538659\n",
      "Columns: 11\n"
     ]
    }
   ],
   "source": [
    "# save the balanced dataset to CSV\n",
    "balanced_df.to_csv('cleaned_fraud_dataset.csv', index=False)\n",
    "\n",
    "print(f\"File: 'cleaned_fraud_dataset.csv'\")\n",
    "print(f\"Rows: {len(balanced_df)}\")\n",
    "print(f\"Columns: {len(balanced_df.columns)}\")"
   ]
  },
  {
   "cell_type": "code",
   "execution_count": 94,
   "id": "f0151127",
   "metadata": {},
   "outputs": [
    {
     "name": "stdout",
     "output_type": "stream",
     "text": [
      "<class 'pandas.core.frame.DataFrame'>\n",
      "RangeIndex: 538659 entries, 0 to 538658\n",
      "Data columns (total 11 columns):\n",
      " #   Column                    Non-Null Count   Dtype         \n",
      "---  ------                    --------------   -----         \n",
      " 0   timestamp                 538659 non-null  datetime64[ns]\n",
      " 1   amount                    538659 non-null  float64       \n",
      " 2   transaction_type          538659 non-null  object        \n",
      " 3   merchant_category         538659 non-null  object        \n",
      " 4   location                  538659 non-null  object        \n",
      " 5   device_used               538659 non-null  object        \n",
      " 6   is_fraud                  538659 non-null  bool          \n",
      " 7   spending_deviation_score  538659 non-null  float64       \n",
      " 8   velocity_score            538659 non-null  int64         \n",
      " 9   geo_anomaly_score         538659 non-null  float64       \n",
      " 10  payment_channel           538659 non-null  object        \n",
      "dtypes: bool(1), datetime64[ns](1), float64(3), int64(1), object(5)\n",
      "memory usage: 41.6+ MB\n"
     ]
    }
   ],
   "source": [
    "# final dataset info\n",
    "balanced_df.info()"
   ]
  },
  {
   "cell_type": "code",
   "execution_count": 95,
   "id": "571519a5",
   "metadata": {},
   "outputs": [
    {
     "data": {
      "text/html": [
       "<div>\n",
       "<style scoped>\n",
       "    .dataframe tbody tr th:only-of-type {\n",
       "        vertical-align: middle;\n",
       "    }\n",
       "\n",
       "    .dataframe tbody tr th {\n",
       "        vertical-align: top;\n",
       "    }\n",
       "\n",
       "    .dataframe thead th {\n",
       "        text-align: right;\n",
       "    }\n",
       "</style>\n",
       "<table border=\"1\" class=\"dataframe\">\n",
       "  <thead>\n",
       "    <tr style=\"text-align: right;\">\n",
       "      <th></th>\n",
       "      <th>timestamp</th>\n",
       "      <th>amount</th>\n",
       "      <th>transaction_type</th>\n",
       "      <th>merchant_category</th>\n",
       "      <th>location</th>\n",
       "      <th>device_used</th>\n",
       "      <th>is_fraud</th>\n",
       "      <th>spending_deviation_score</th>\n",
       "      <th>velocity_score</th>\n",
       "      <th>geo_anomaly_score</th>\n",
       "      <th>payment_channel</th>\n",
       "    </tr>\n",
       "  </thead>\n",
       "  <tbody>\n",
       "    <tr>\n",
       "      <th>0</th>\n",
       "      <td>2023-12-18</td>\n",
       "      <td>28.44</td>\n",
       "      <td>transfer</td>\n",
       "      <td>retail</td>\n",
       "      <td>Singapore</td>\n",
       "      <td>web</td>\n",
       "      <td>False</td>\n",
       "      <td>0.23</td>\n",
       "      <td>11</td>\n",
       "      <td>0.93</td>\n",
       "      <td>wire_transfer</td>\n",
       "    </tr>\n",
       "    <tr>\n",
       "      <th>1</th>\n",
       "      <td>2023-02-06</td>\n",
       "      <td>64.88</td>\n",
       "      <td>payment</td>\n",
       "      <td>retail</td>\n",
       "      <td>Toronto</td>\n",
       "      <td>pos</td>\n",
       "      <td>False</td>\n",
       "      <td>0.44</td>\n",
       "      <td>4</td>\n",
       "      <td>0.40</td>\n",
       "      <td>wire_transfer</td>\n",
       "    </tr>\n",
       "    <tr>\n",
       "      <th>2</th>\n",
       "      <td>2023-07-26</td>\n",
       "      <td>5.68</td>\n",
       "      <td>transfer</td>\n",
       "      <td>online</td>\n",
       "      <td>Dubai</td>\n",
       "      <td>web</td>\n",
       "      <td>True</td>\n",
       "      <td>0.28</td>\n",
       "      <td>18</td>\n",
       "      <td>0.09</td>\n",
       "      <td>wire_transfer</td>\n",
       "    </tr>\n",
       "    <tr>\n",
       "      <th>3</th>\n",
       "      <td>2023-04-27</td>\n",
       "      <td>11.97</td>\n",
       "      <td>transfer</td>\n",
       "      <td>utilities</td>\n",
       "      <td>Toronto</td>\n",
       "      <td>atm</td>\n",
       "      <td>True</td>\n",
       "      <td>-1.31</td>\n",
       "      <td>1</td>\n",
       "      <td>0.63</td>\n",
       "      <td>wire_transfer</td>\n",
       "    </tr>\n",
       "    <tr>\n",
       "      <th>4</th>\n",
       "      <td>2023-03-14</td>\n",
       "      <td>191.39</td>\n",
       "      <td>withdrawal</td>\n",
       "      <td>retail</td>\n",
       "      <td>Tokyo</td>\n",
       "      <td>pos</td>\n",
       "      <td>False</td>\n",
       "      <td>1.10</td>\n",
       "      <td>12</td>\n",
       "      <td>0.16</td>\n",
       "      <td>UPI</td>\n",
       "    </tr>\n",
       "  </tbody>\n",
       "</table>\n",
       "</div>"
      ],
      "text/plain": [
       "   timestamp  amount transaction_type merchant_category   location  \\\n",
       "0 2023-12-18   28.44         transfer            retail  Singapore   \n",
       "1 2023-02-06   64.88          payment            retail    Toronto   \n",
       "2 2023-07-26    5.68         transfer            online      Dubai   \n",
       "3 2023-04-27   11.97         transfer         utilities    Toronto   \n",
       "4 2023-03-14  191.39       withdrawal            retail      Tokyo   \n",
       "\n",
       "  device_used  is_fraud  spending_deviation_score  velocity_score  \\\n",
       "0         web     False                      0.23              11   \n",
       "1         pos     False                      0.44               4   \n",
       "2         web      True                      0.28              18   \n",
       "3         atm      True                     -1.31               1   \n",
       "4         pos     False                      1.10              12   \n",
       "\n",
       "   geo_anomaly_score payment_channel  \n",
       "0               0.93   wire_transfer  \n",
       "1               0.40   wire_transfer  \n",
       "2               0.09   wire_transfer  \n",
       "3               0.63   wire_transfer  \n",
       "4               0.16             UPI  "
      ]
     },
     "execution_count": 95,
     "metadata": {},
     "output_type": "execute_result"
    }
   ],
   "source": [
    "balanced_df.head()"
   ]
  }
 ],
 "metadata": {
  "kernelspec": {
   "display_name": "base",
   "language": "python",
   "name": "python3"
  },
  "language_info": {
   "codemirror_mode": {
    "name": "ipython",
    "version": 3
   },
   "file_extension": ".py",
   "mimetype": "text/x-python",
   "name": "python",
   "nbconvert_exporter": "python",
   "pygments_lexer": "ipython3",
   "version": "3.9.12"
  }
 },
 "nbformat": 4,
 "nbformat_minor": 5
}
